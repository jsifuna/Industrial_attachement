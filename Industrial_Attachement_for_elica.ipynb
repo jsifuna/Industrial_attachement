{
  "nbformat": 4,
  "nbformat_minor": 0,
  "metadata": {
    "colab": {
      "provenance": []
    },
    "kernelspec": {
      "name": "python3",
      "display_name": "Python 3"
    },
    "language_info": {
      "name": "python"
    }
  },
  "cells": [
    {
      "cell_type": "code",
      "source": [
        "from sqlalchemy import create_engine, Column, String, Integer, ForeignKey, Date, Text, DateTime, Enum\n",
        "from sqlalchemy.ext.declarative import declarative_base\n",
        "from sqlalchemy.orm import relationship, sessionmaker\n",
        "from datetime import datetime"
      ],
      "metadata": {
        "id": "wR3zEDTHWJcx"
      },
      "execution_count": 1,
      "outputs": []
    },
    {
      "cell_type": "code",
      "source": [
        "Base = declarative_base()"
      ],
      "metadata": {
        "colab": {
          "base_uri": "https://localhost:8080/"
        },
        "id": "dxUN3ynZWa2t",
        "outputId": "a41f9476-008b-45bf-8ca4-2e08b6be0aef"
      },
      "execution_count": 3,
      "outputs": [
        {
          "output_type": "stream",
          "name": "stderr",
          "text": [
            "<ipython-input-3-9bae6e3862ba>:1: MovedIn20Warning: The ``declarative_base()`` function is now available as sqlalchemy.orm.declarative_base(). (deprecated since: 2.0) (Background on SQLAlchemy 2.0 at: https://sqlalche.me/e/b8d9)\n",
            "  Base = declarative_base()\n"
          ]
        }
      ]
    },
    {
      "cell_type": "code",
      "source": [
        "class Student(Base):\n",
        "    __tablename__ = 'students'\n",
        "\n",
        "    admission_no = Column(String, primary_key=True)\n",
        "    first_name = Column(String, nullable=False)\n",
        "    last_name = Column(String, nullable=False)\n",
        "    course = Column(String, nullable=False)\n",
        "    department = Column(String, nullable=False)\n",
        "    year_of_study = Column(Integer, nullable=False)\n",
        "    email = Column(String, unique=True, nullable=False)\n",
        "    phone_number = Column(String, unique=True, nullable=False)\n",
        "    gender = Column(Enum('Male', 'Female', 'Other'), nullable=False)\n",
        "    date_of_birth = Column(Date, nullable=False)\n",
        "    status = Column(String, nullable=False)\n",
        "\n",
        "    internships = relationship('Internship', back_populates='student')\n",
        "    evaluations = relationship('Evaluation', back_populates='student')\n",
        "    feedbacks = relationship('Feedback', back_populates='student')"
      ],
      "metadata": {
        "id": "CebwXGjNWm1c"
      },
      "execution_count": 4,
      "outputs": []
    },
    {
      "cell_type": "code",
      "source": [
        "class Company(Base):\n",
        "    __tablename__ = 'companies'\n",
        "\n",
        "    company_id = Column(Integer, primary_key=True)\n",
        "    company_name = Column(String, nullable=False)\n",
        "    industry = Column(String, nullable=False)\n",
        "    location_town = Column(String, nullable=False)\n",
        "    street = Column(String, nullable=False)\n",
        "    building = Column(String, nullable=False)\n",
        "    telephone = Column(String, nullable=False)\n",
        "    email = Column(String, nullable=False)\n",
        "    website = Column(String)\n",
        "    contact_person = Column(String)\n",
        "    created_at = Column(DateTime, default=datetime.utcnow)\n",
        "    updated_at = Column(DateTime, default=datetime.utcnow, onupdate=datetime.utcnow)\n",
        "\n",
        "    internships = relationship('Internship', back_populates='company')"
      ],
      "metadata": {
        "id": "n5AYzKUtWsep"
      },
      "execution_count": 5,
      "outputs": []
    },
    {
      "cell_type": "code",
      "source": [
        "class Supervisor(Base):\n",
        "    __tablename__ = 'supervisors'\n",
        "\n",
        "    supervisor_id = Column(Integer, primary_key=True)\n",
        "    supervisor_name = Column(String, nullable=False)\n",
        "    email = Column(String, unique=True, nullable=False)\n",
        "    phone_number = Column(String, unique=True, nullable=False)\n",
        "    department_id = Column(Integer, nullable=False)\n",
        "    title = Column(String, nullable=False)\n",
        "    created_at = Column(DateTime, default=datetime.utcnow)\n",
        "    updated_at = Column(DateTime, default=datetime.utcnow, onupdate=datetime.utcnow)\n",
        "\n",
        "    internships = relationship('Internship', back_populates='supervisor')\n",
        "    assignments = relationship('SupervisorAssignment', back_populates='supervisor')"
      ],
      "metadata": {
        "id": "buyHiXKCWyiS"
      },
      "execution_count": 6,
      "outputs": []
    },
    {
      "cell_type": "code",
      "source": [
        "class InternshipCategory(Base):\n",
        "    __tablename__ = 'internship_categories'\n",
        "\n",
        "    category_id = Column(Integer, primary_key=True)\n",
        "    category_name = Column(String, nullable=False)\n",
        "    description = Column(Text)"
      ],
      "metadata": {
        "id": "ILKt7V45W4iA"
      },
      "execution_count": 7,
      "outputs": []
    },
    {
      "cell_type": "code",
      "source": [
        "class Internship(Base):\n",
        "    __tablename__ = 'internships'\n",
        "\n",
        "    internship_id = Column(Integer, primary_key=True)\n",
        "    admission_no = Column(String, ForeignKey('students.admission_no'), nullable=False)\n",
        "    company_id = Column(Integer, ForeignKey('companies.company_id'), nullable=False)\n",
        "    supervisor_id = Column(Integer, ForeignKey('supervisors.supervisor_id'), nullable=False)\n",
        "    internship_start_date = Column(Date, nullable=False)\n",
        "    internship_end_date = Column(Date, nullable=False)\n",
        "    internship_location = Column(String, nullable=False)\n",
        "    internship_description = Column(Text)\n",
        "    status = Column(String, nullable=False)\n",
        "\n",
        "    student = relationship('Student', back_populates='internships')\n",
        "    company = relationship('Company', back_populates='internships')\n",
        "    supervisor = relationship('Supervisor', back_populates='internships')\n",
        "    evaluations = relationship('Evaluation', back_populates='internship')\n",
        "    feedbacks = relationship('Feedback', back_populates='internship')"
      ],
      "metadata": {
        "id": "AALPJs0JW_K-"
      },
      "execution_count": 8,
      "outputs": []
    },
    {
      "cell_type": "code",
      "source": [
        "class Evaluation(Base):\n",
        "    __tablename__ = 'evaluations'\n",
        "\n",
        "    evaluation_id = Column(Integer, primary_key=True)\n",
        "    internship_id = Column(Integer, ForeignKey('internships.internship_id'), nullable=False)\n",
        "    student_id = Column(String, ForeignKey('students.admission_no'), nullable=False)\n",
        "    evaluator_name = Column(String, nullable=False)\n",
        "    evaluation_date = Column(Date, nullable=False)\n",
        "    evaluation_score = Column(Integer, nullable=False)\n",
        "    evaluation_comments = Column(Text)\n",
        "    evaluation_type = Column(String, nullable=False)\n",
        "    created_at = Column(DateTime, default=datetime.utcnow)\n",
        "    updated_at = Column(DateTime, default=datetime.utcnow, onupdate=datetime.utcnow)\n",
        "\n",
        "    internship = relationship('Internship', back_populates='evaluations')\n",
        "    student = relationship('Student', back_populates='evaluations')"
      ],
      "metadata": {
        "id": "xuAbmWZOXKg2"
      },
      "execution_count": 9,
      "outputs": []
    },
    {
      "cell_type": "code",
      "source": [
        "class Feedback(Base):\n",
        "    __tablename__ = 'feedbacks'\n",
        "\n",
        "    feedback_id = Column(Integer, primary_key=True)\n",
        "    internship_id = Column(Integer, ForeignKey('internships.internship_id'), nullable=False)\n",
        "    student_id = Column(String, ForeignKey('students.admission_no'), nullable=False)\n",
        "    student_feedback = Column(Text)\n",
        "    supervisor_feedback = Column(Text)\n",
        "    feedback_type = Column(String, nullable=False)\n",
        "    created_at = Column(DateTime, default=datetime.utcnow)\n",
        "    updated_at = Column(DateTime, default=datetime.utcnow, onupdate=datetime.utcnow)\n",
        "\n",
        "    internship = relationship('Internship', back_populates='feedbacks')\n",
        "    student = relationship('Student', back_populates='feedbacks')"
      ],
      "metadata": {
        "id": "w5wGHB4PXQM5"
      },
      "execution_count": 10,
      "outputs": []
    },
    {
      "cell_type": "code",
      "source": [
        "class SupervisorAssignment(Base):\n",
        "    __tablename__ = 'supervisors_assignment'\n",
        "\n",
        "    assignment_id = Column(Integer, primary_key=True)\n",
        "    supervisor_id = Column(Integer, ForeignKey('supervisors.supervisor_id'), nullable=False)\n",
        "    supervisor_order = Column(Integer, nullable=False)\n",
        "    date_range = Column(String, nullable=False)\n",
        "    created_at = Column(DateTime, default=datetime.utcnow)\n",
        "    updated_at = Column(DateTime, default=datetime.utcnow, onupdate=datetime.utcnow)\n",
        "\n",
        "    supervisor = relationship('Supervisor', back_populates='assignments')"
      ],
      "metadata": {
        "id": "lixodGFhXWGw"
      },
      "execution_count": 11,
      "outputs": []
    },
    {
      "cell_type": "code",
      "source": [
        "def create_db():\n",
        "    engine = create_engine('sqlite:///industrial_attachment.db')\n",
        "    Base.metadata.create_all(engine)\n",
        "\n",
        "    # Create a new session\n",
        "    Session = sessionmaker(bind=engine)\n",
        "    session = Session()\n",
        "\n",
        "    # Example of inserting data\n",
        "    # student = Student(\n",
        "    #     admission_no='1037980',\n",
        "    #     first_name='James',\n",
        "    #     last_name='Sifuna',\n",
        "    #     course='Bachelor of Science in Physics',\n",
        "    #     department='Natural Science',\n",
        "    #     year_of_study=3,\n",
        "    #     email='sifunajames@gmail.com',\n",
        "    #     phone_number='0725499073',\n",
        "    #     gender='Male',\n",
        "    #     date_of_birth='1989-09-25',\n",
        "    #     status='Active'\n",
        "    # )\n",
        "    # session.add(student)\n",
        "    # session.commit()\n",
        "\n",
        "    session.close()\n"
      ],
      "metadata": {
        "id": "WlnybdOqXkR6"
      },
      "execution_count": 12,
      "outputs": []
    }
  ]
}